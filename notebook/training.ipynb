{
 "cells": [
  {
   "cell_type": "code",
   "execution_count": 1,
   "metadata": {},
   "outputs": [
    {
     "name": "stderr",
     "output_type": "stream",
     "text": [
      "c:\\Users\\Swapnil Singh\\Desktop\\Projects\\Gen AI project\\DBChatPro\\dbchatpro\\lib\\site-packages\\tqdm\\auto.py:21: TqdmWarning: IProgress not found. Please update jupyter and ipywidgets. See https://ipywidgets.readthedocs.io/en/stable/user_install.html\n",
      "  from .autonotebook import tqdm as notebook_tqdm\n"
     ]
    }
   ],
   "source": [
    "import google.generativeai as genai\n",
    "from dotenv import load_dotenv\n",
    "from langchain.sql_database import SQLDatabase\n",
    "import warnings\n",
    "import re\n",
    "import os\n",
    "\n",
    "warnings.filterwarnings(\"ignore\")"
   ]
  },
  {
   "cell_type": "code",
   "execution_count": 2,
   "metadata": {},
   "outputs": [
    {
     "name": "stdout",
     "output_type": "stream",
     "text": [
      "['category', 'catregory_icon', 'customer', 'customer_feedbacks', 'delivery', 'inventory', 'marketing', 'order_item', 'orders', 'products', 'rating', 'test']\n"
     ]
    }
   ],
   "source": [
    "# Define your database connection parameters\n",
    "db_user = \"root\"\n",
    "db_password = \"1256\"\n",
    "db_host = \"localhost\"\n",
    "db_name = \"test_db\"\n",
    "\n",
    "db = SQLDatabase.from_uri(f\"mysql+pymysql://{db_user}:{db_password}@{db_host}/{db_name}\")\n",
    "\n",
    "# %%\n",
    "print(db.get_usable_table_names())\n",
    "\n"
   ]
  },
  {
   "cell_type": "code",
   "execution_count": 3,
   "metadata": {},
   "outputs": [],
   "source": [
    "# %%\n",
    "db_schema = db.get_table_info()\n",
    "\n"
   ]
  },
  {
   "cell_type": "code",
   "execution_count": 4,
   "metadata": {},
   "outputs": [],
   "source": [
    "# %%\n",
    "# Load environment variables\n",
    "load_dotenv()\n",
    "\n",
    "genai.configure(api_key=os.getenv(\"GOOGLE_API_KEY\"))\n",
    "\n",
    "# %%\n",
    "model = genai.GenerativeModel('gemini-pro')\n",
    "\n"
   ]
  },
  {
   "cell_type": "code",
   "execution_count": 5,
   "metadata": {},
   "outputs": [
    {
     "data": {
      "text/plain": [
       "'```sql\\nSELECT COUNT(DISTINCT name) AS num_product_names\\nFROM products;\\n```'"
      ]
     },
     "execution_count": 5,
     "metadata": {},
     "output_type": "execute_result"
    }
   ],
   "source": [
    "# %%\n",
    "question = \"What many products name are there in products table?\"\n",
    "\n",
    "# %%\n",
    "response = model.generate_content(question)\n",
    "\n",
    "# %%\n",
    "response.text\n",
    "\n"
   ]
  },
  {
   "cell_type": "code",
   "execution_count": 6,
   "metadata": {},
   "outputs": [],
   "source": [
    "# %%\n",
    "few_shots = [\n",
    "    {\n",
    "        \"input\": \"How many Distinct Products are present?\",\n",
    "        \"query\": \"SELECT COUNT(DISTINCT product_id) FROM products;\"\n",
    "    },\n",
    "    {\n",
    "        \"input\": \"What is the total number of orders placed?\",\n",
    "        \"query\": \"SELECT COUNT(*) FROM orders;\"\n",
    "    },\n",
    "    {\n",
    "        \"input\": \"Which product has the highest number of orders?\",\n",
    "        \"query\": \"SELECT product_id, COUNT(*) AS order_count FROM order_item GROUP BY product_id ORDER BY order_count DESC LIMIT 1;\"\n",
    "    },\n",
    "    {\n",
    "        \"input\": \"How many customers have placed at least one order?\",\n",
    "        \"query\": \"SELECT COUNT(DISTINCT customer_id) FROM orders;\"\n",
    "    },\n",
    "    {\n",
    "        \"input\": \"Which customer has placed the highest number of orders?\",\n",
    "        \"query\": \"SELECT customer_id, COUNT(*) AS order_count FROM orders GROUP BY customer_id ORDER BY order_count DESC LIMIT 1;\"\n",
    "    },\n",
    "    {\n",
    "        \"input\": \"Which category has the highest number of products?\",\n",
    "        \"query\": \"SELECT category_id, COUNT(*) AS product_count FROM products GROUP BY category_id ORDER BY product_count DESC LIMIT 1;\"\n",
    "    },\n",
    "    {\n",
    "        \"input\": \"Retrieve customer feedback along with their order details.\",\n",
    "        \"query\": \"SELECT c.customer_id, c.customer_name, cf.feedback_id, o.order_id FROM customer c JOIN customer_feedbacks cf ON c.customer_id = cf.customer_id JOIN orders o ON c.customer_id = o.customer_id;\"\n",
    "    },\n",
    "    {\n",
    "        \"input\": \"List top 5 customer names who ordered 3 times.\",\n",
    "        \"query\": \"SELECT c.customer_name, COUNT(o.order_id) AS order_count FROM customer c JOIN orders o ON c.customer_id = o.customer_id GROUP BY c.customer_id, c.customer_name HAVING order_count = 3 ORDER BY c.customer_name LIMIT 5;\"\n",
    "    }   \n",
    "]\n",
    "\n",
    "\n",
    "# %%\n",
    "prompt = [\n",
    "        f\"\"\"\n",
    "            You are an expert in converting English questions to SQL query!\n",
    "            The SQL database has many tables, and these are the schemas: {db_schema}, \n",
    "            You can order the results by a relevant column to return the most interesting examples in the database,\n",
    "            Never query for all the columns from a specific table, only ask for the relevant columns given the question.\n",
    "\n",
    "            Important: Also the sql code should not have ``` in beginning or end and sql word in output. Please check the column names before executing any query \n",
    "            \n",
    "            You MUST double check your query before executing it. If you get an error while executing a query, rewrite the query and try again.\n",
    "\n",
    "            DO NOT make any DML statements (INSERT, UPDATE, DELETE, DROP etc.) to the database.\n",
    "\n",
    "            If the question does not seem related to the database, just return \"I don't know\" as the answer.\n",
    "\n",
    "            Here are some examples of user inputs and their corresponding SQL queries:\n",
    "            \"\"\",\n",
    "    ]\n",
    "\n",
    "# %%\n",
    "# Append each example to the prompt\n",
    "for sql_example in few_shots:\n",
    "    prompt.append(\n",
    "        f\"\\nExample - {sql_example['input']}, the SQL command will be something like this {sql_example['query']}\")\n",
    "\n",
    "# Join prompt sections into a single string\n",
    "formatted_prompt = [''.join(prompt)]\n",
    "\n"
   ]
  },
  {
   "cell_type": "code",
   "execution_count": 7,
   "metadata": {},
   "outputs": [
    {
     "data": {
      "text/plain": [
       "'SELECT c.customer_name, COUNT(o.order_id) AS order_count  FROM customer c  JOIN orders o ON c.customer_id = o.customer_id  GROUP BY c.customer_id, c.customer_name  HAVING order_count = 3  ORDER BY c.customer_name  LIMIT 2;'"
      ]
     },
     "execution_count": 7,
     "metadata": {},
     "output_type": "execute_result"
    }
   ],
   "source": [
    "# %%\n",
    "question2 = \"List top 2 customer names who ordered 3 times\"\n",
    "\n",
    "# %%\n",
    "response_with_few_shots = model.generate_content([formatted_prompt[0], question2])\n",
    "\n",
    "# %%\n",
    "response_with_few_shots = re.sub(r\"(\\n|```sql|```|sql)\", \" \", response_with_few_shots.text).strip()\n",
    "\n",
    "# %%\n",
    "response_with_few_shots\n",
    "\n",
    "\n"
   ]
  },
  {
   "cell_type": "code",
   "execution_count": null,
   "metadata": {},
   "outputs": [
    {
     "name": "stdout",
     "output_type": "stream",
     "text": [
      "1. Aahana Menon - 3 orders\n",
      "2. Aarav Rout - 3 orders\n"
     ]
    }
   ],
   "source": [
    "# %%\n",
    "sql_response = db.run(response_with_few_shots)\n",
    "\n",
    "# %%\n",
    "response = model.generate_content(f\"\"\"\n",
    "Based on the sql response, Give answer based on given dataset {db_schema} and related to the {question2} asked:\n",
    "\n",
    "SQL response: {sql_response}\n",
    "\n",
    "\"\"\")\n",
    "\n",
    "print(response.text)"
   ]
  }
 ],
 "metadata": {
  "kernelspec": {
   "display_name": "Python 3",
   "language": "python",
   "name": "python3"
  },
  "language_info": {
   "codemirror_mode": {
    "name": "ipython",
    "version": 3
   },
   "file_extension": ".py",
   "mimetype": "text/x-python",
   "name": "python",
   "nbconvert_exporter": "python",
   "pygments_lexer": "ipython3",
   "version": "3.10.0"
  }
 },
 "nbformat": 4,
 "nbformat_minor": 2
}
